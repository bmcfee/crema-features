{
 "cells": [
  {
   "cell_type": "code",
   "execution_count": 29,
   "metadata": {
    "collapsed": true
   },
   "outputs": [],
   "source": [
    "import pickle\n",
    "import pandas as pd\n",
    "import jams\n",
    "import sqlite3\n",
    "import os\n",
    "import sys"
   ]
  },
  {
   "cell_type": "code",
   "execution_count": 4,
   "metadata": {
    "collapsed": true
   },
   "outputs": [],
   "source": [
    "from tqdm import tqdm"
   ]
  },
  {
   "cell_type": "code",
   "execution_count": 5,
   "metadata": {
    "collapsed": true
   },
   "outputs": [],
   "source": [
    "def load_cf_targets():\n",
    "    data = pickle.load(open('cf_target_data.pickle', 'rb'))\n",
    "\n",
    "    data.keys()\n",
    "\n",
    "\n",
    "    model = data['best_model']\n",
    "    item_encoder = data['ix']\n",
    "    song_to_track = data['song_to_track']\n",
    "\n",
    "    return model, item_encoder, song_to_track"
   ]
  },
  {
   "cell_type": "code",
   "execution_count": 15,
   "metadata": {
    "collapsed": false
   },
   "outputs": [
    {
     "name": "stderr",
     "output_type": "stream",
     "text": []
    }
   ],
   "source": [
    "metadata = {}\n",
    "with sqlite3.connect('/home/bmcfee/data/1mil/AdditionalFiles/track_metadata.db') as dbc:\n",
    "\n",
    "    cur = dbc.cursor()\n",
    "    for meta in tqdm(cur.execute(\"\"\"SELECT track_id, song_id, artist_id, artist_name, title, duration from songs\"\"\")):\n",
    "        meta = list(meta)\n",
    "        track_id = meta.pop(0)\n",
    "        metadata[track_id] = dict(zip(['song_id', 'artist_id', 'artist', 'title', 'duration'], meta))\n",
    "\n",
    "metadata = pd.DataFrame.from_dict(metadata, orient='index')\n",
    "metadata.index.name = 'track_id'"
   ]
  },
  {
   "cell_type": "code",
   "execution_count": 73,
   "metadata": {
    "collapsed": true
   },
   "outputs": [],
   "source": [
    "def construct_dir(target_dir, track_id):\n",
    "    \n",
    "    crumbs = [target_dir, 'jams']\n",
    "    crumbs.extend(track_id[2:5])\n",
    "    \n",
    "    dirname = os.path.sep.join(crumbs)\n",
    "    \n",
    "    jams.util.smkdirs(dirname)\n",
    "    return dirname\n",
    "    \n",
    "def vec_ser(vec):\n",
    "    \n",
    "    return [float(_) for _ in vec]\n",
    "    \n",
    "def create_jam(target_dir, track_id, meta, vec, ext='jamz'):\n",
    "    \n",
    "    outdir = construct_dir(target_dir, track_id)\n",
    "    \n",
    "    jam = jams.JAMS()\n",
    "    jam.file_metadata.artist = meta['artist']\n",
    "    jam.file_metadata.title = meta['title']\n",
    "    jam.file_metadata.duration = float(meta['duration'])\n",
    "    \n",
    "    jam.file_metadata.identifiers.artist_id = meta['artist_id']\n",
    "    \n",
    "    ann = jams.Annotation(namespace='vector')\n",
    "    \n",
    "    ann.append(time=0.0, duration=float(meta['duration']), value=vec_ser(vec))\n",
    "    jam.annotations.append(ann)\n",
    "    \n",
    "    jam.save(os.path.sep.join([outdir, os.path.extsep.join([track_id, ext])]))"
   ]
  },
  {
   "cell_type": "code",
   "execution_count": 6,
   "metadata": {
    "collapsed": false
   },
   "outputs": [],
   "source": [
    "model, item_encoder, song_to_track = load_cf_targets()"
   ]
  },
  {
   "cell_type": "code",
   "execution_count": 30,
   "metadata": {
    "collapsed": true
   },
   "outputs": [],
   "source": [
    "TARGET_DIR = '/home/bmcfee/data/1mil/'"
   ]
  },
  {
   "cell_type": "code",
   "execution_count": 76,
   "metadata": {
    "collapsed": false
   },
   "outputs": [
    {
     "name": "stderr",
     "output_type": "stream",
     "text": []
    }
   ],
   "source": [
    "for i in tqdm(range(len(model.item_embeddings))):\n",
    "    vec = model.item_embeddings[i]\n",
    "    song_id = item_encoder.inverse_transform(i)\n",
    "    track_id = song_to_track[song_id]\n",
    "    meta = dict(metadata.loc[track_id])\n",
    "    \n",
    "    create_jam(TARGET_DIR, track_id, meta, vec)"
   ]
  }
 ],
 "metadata": {
  "kernelspec": {
   "display_name": "Python 3",
   "language": "python",
   "name": "python3"
  },
  "language_info": {
   "codemirror_mode": {
    "name": "ipython",
    "version": 3
   },
   "file_extension": ".py",
   "mimetype": "text/x-python",
   "name": "python",
   "nbconvert_exporter": "python",
   "pygments_lexer": "ipython3",
   "version": "3.5.1"
  }
 },
 "nbformat": 4,
 "nbformat_minor": 0
}
