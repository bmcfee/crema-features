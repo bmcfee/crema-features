{
 "cells": [
  {
   "cell_type": "code",
   "execution_count": 1,
   "metadata": {
    "collapsed": true
   },
   "outputs": [],
   "source": [
    "import pandas as pd\n",
    "import jams"
   ]
  },
  {
   "cell_type": "code",
   "execution_count": 2,
   "metadata": {
    "collapsed": true
   },
   "outputs": [],
   "source": [
    "from tqdm import tqdm"
   ]
  },
  {
   "cell_type": "code",
   "execution_count": 3,
   "metadata": {
    "collapsed": true
   },
   "outputs": [],
   "source": [
    "def filter_jam(jam_file, artist='The Beatles', corpus='Isophonics'):\n",
    "    # Basically just here to throw out the isophonics corpus\n",
    "    J = jams.load(jam_file, validate=False)\n",
    "    \n",
    "    return not (J.file_metadata.search(artist=artist) and J.search(corpus=corpus))"
   ]
  },
  {
   "cell_type": "code",
   "execution_count": 4,
   "metadata": {
    "collapsed": true
   },
   "outputs": [],
   "source": [
    "def extract_key(jam_file):\n",
    "    \n",
    "    J = jams.load(jam_file, validate=False)\n",
    "    \n",
    "    key = J.file_metadata.artist\n",
    "    if not key:\n",
    "        key = J.file_metadata.identifiers['echonest_track_id']\n",
    "        \n",
    "    return key"
   ]
  },
  {
   "cell_type": "code",
   "execution_count": 5,
   "metadata": {
    "collapsed": true
   },
   "outputs": [],
   "source": [
    "def jam_to_audio(jam_file):\n",
    "    \n",
    "    return jam_file.replace('references_v2', 'audio').replace('jams', 'mp3')"
   ]
  },
  {
   "cell_type": "code",
   "execution_count": 6,
   "metadata": {
    "collapsed": true
   },
   "outputs": [],
   "source": [
    "jams_files = jams.util.find_with_extension('/home/bmcfee/data/eric_chords/references_v2/', 'jams')"
   ]
  },
  {
   "cell_type": "code",
   "execution_count": 7,
   "metadata": {
    "collapsed": false
   },
   "outputs": [
    {
     "name": "stderr",
     "output_type": "stream",
     "text": []
    }
   ],
   "source": [
    "hits = {_: filter_jam(_) for _ in tqdm(jams_files)}"
   ]
  },
  {
   "cell_type": "code",
   "execution_count": 8,
   "metadata": {
    "collapsed": false
   },
   "outputs": [
    {
     "name": "stderr",
     "output_type": "stream",
     "text": []
    }
   ],
   "source": [
    "keys = {_: extract_key(_) for _ in tqdm(jams_files)}"
   ]
  },
  {
   "cell_type": "code",
   "execution_count": 9,
   "metadata": {
    "collapsed": false
   },
   "outputs": [],
   "source": [
    "df = []\n",
    "for j in hits:\n",
    "    if not hits[j]:\n",
    "        continue\n",
    "    df.append(dict(audio=jam_to_audio(j),\n",
    "                   jams=j,\n",
    "                   key=keys[j],\n",
    "                   orginal=True))\n",
    "df = pd.DataFrame.from_records(df)"
   ]
  },
  {
   "cell_type": "code",
   "execution_count": 10,
   "metadata": {
    "collapsed": false
   },
   "outputs": [],
   "source": [
    "df.to_csv('../scripts/billboard_index.csv', index=False)\n"
   ]
  }
 ],
 "metadata": {
  "kernelspec": {
   "display_name": "Python 3",
   "language": "python",
   "name": "python3"
  },
  "language_info": {
   "codemirror_mode": {
    "name": "ipython",
    "version": 3
   },
   "file_extension": ".py",
   "mimetype": "text/x-python",
   "name": "python",
   "nbconvert_exporter": "python",
   "pygments_lexer": "ipython3",
   "version": "3.5.1"
  }
 },
 "nbformat": 4,
 "nbformat_minor": 0
}
