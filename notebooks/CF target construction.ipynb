{
 "cells": [
  {
   "cell_type": "code",
   "execution_count": null,
   "metadata": {
    "collapsed": false
   },
   "outputs": [],
   "source": [
    "import numpy as np\n",
    "import scipy.sparse\n",
    "from sklearn.preprocessing import LabelEncoder\n",
    "from sklearn.cross_validation import StratifiedShuffleSplit"
   ]
  },
  {
   "cell_type": "code",
   "execution_count": null,
   "metadata": {
    "collapsed": false
   },
   "outputs": [],
   "source": [
    "import matplotlib.pyplot as plt\n",
    "%matplotlib nbagg\n",
    "import seaborn as sns\n",
    "sns.set(style='darkgrid')"
   ]
  },
  {
   "cell_type": "code",
   "execution_count": null,
   "metadata": {
    "collapsed": true
   },
   "outputs": [],
   "source": [
    "import lightfm"
   ]
  },
  {
   "cell_type": "code",
   "execution_count": null,
   "metadata": {
    "collapsed": true
   },
   "outputs": [],
   "source": [
    "import pandas as pd"
   ]
  },
  {
   "cell_type": "code",
   "execution_count": null,
   "metadata": {
    "collapsed": true
   },
   "outputs": [],
   "source": [
    "import gzip"
   ]
  },
  {
   "cell_type": "code",
   "execution_count": null,
   "metadata": {
    "collapsed": true
   },
   "outputs": [],
   "source": [
    "import sklearn.metrics"
   ]
  },
  {
   "cell_type": "code",
   "execution_count": null,
   "metadata": {
    "collapsed": true
   },
   "outputs": [],
   "source": [
    "from joblib import Parallel, delayed"
   ]
  },
  {
   "cell_type": "code",
   "execution_count": null,
   "metadata": {
    "collapsed": true
   },
   "outputs": [],
   "source": [
    "import copy\n",
    "def _score(model, user_id, pid_array, row, no_items):\n",
    "    \n",
    "    uid_array = np.empty(no_items, dtype=np.int32)\n",
    "    uid_array.fill(user_id)\n",
    "    \n",
    "    #model = copy.deepcopy(model)\n",
    "    \n",
    "    #predictions = model.predict(uid_array, pid_array, num_threads=1)\n",
    "    predictions = model.item_embeddings.dot(model.user_embeddings[user_id]) + model.item_biases\n",
    "    \n",
    "    truth = np.asarray(row.todense()).ravel()\n",
    "        \n",
    "    mean_ap = sklearn.metrics.average_precision_score(truth, predictions)\n",
    "    auc = sklearn.metrics.roc_auc_score(truth, predictions)\n",
    "    \n",
    "    return mean_ap, auc\n",
    "\n",
    "def _val(model, user_id, pid_array, train_row, test_row):\n",
    "    \n",
    "    no_items = test_row.shape[1]\n",
    "    uid_array = np.empty(no_items, dtype=np.int32)\n",
    "    uid_array.fill(user_id)\n",
    "    \n",
    "    predictions = model.item_embeddings.dot(model.user_embeddings[user_id]) + model.item_biases\n",
    "    \n",
    "    truth = np.asarray(test_row.todense()).ravel()\n",
    "    \n",
    "    # Now slice out everything in the training set\n",
    "    \n",
    "    idx = np.asarray(train_row.todense().astype(np.bool)).ravel()\n",
    "    \n",
    "    predictions = predictions[~idx]\n",
    "    truth = truth[~idx]\n",
    "    \n",
    "    mean_ap = sklearn.metrics.average_precision_score(truth, predictions)\n",
    "    auc = sklearn.metrics.roc_auc_score(truth, predictions)\n",
    "    \n",
    "    return mean_ap, auc\n",
    "\n",
    "\n",
    "def pscore_model(model, ground_truth, num_threads=4):\n",
    "    \n",
    "    ground_truth = ground_truth.tocsr()\n",
    "    \n",
    "    no_users, no_items = ground_truth.shape\n",
    "    \n",
    "    pid_array = np.arange(no_items, dtype=np.int32)\n",
    "    \n",
    "    scores = Parallel(n_jobs=num_threads, verbose=1)(delayed(_score)(model, user_id, pid_array, row, no_items)\n",
    "                                         for user_id, row in enumerate(ground_truth))\n",
    "    \n",
    "    return pd.DataFrame(data=scores, columns=['mean_ap', 'auc'])\n",
    "\n",
    "def validate_model(model, train, test, num_threads=4):\n",
    "    \n",
    "    train = train.tocsr()\n",
    "    test = test.tocsr()\n",
    "    \n",
    "    no_users, no_items = test.shape\n",
    "    \n",
    "    pid_array = np.arange(no_items, dtype=np.int32)\n",
    "    \n",
    "    scores = Parallel(n_jobs=num_threads, verbose=1)(delayed(_val)(model, user_id, pid_array, train_row, test_row)\n",
    "                                         for user_id, (train_row, test_row) in enumerate(zip(train, test)))\n",
    "    \n",
    "    return pd.DataFrame(data=scores, columns=['mean_ap', 'auc'])\n",
    "\n",
    "def score_model(model, ground_truth, num_threads=4):\n",
    "    \n",
    "    ground_truth = ground_truth.tocsr()\n",
    "    \n",
    "    no_users, no_items = ground_truth.shape\n",
    "    \n",
    "    pid_array = np.arange(no_items, dtype=np.int32)\n",
    "    \n",
    "    mean_ap = []\n",
    "    auc = []\n",
    "    \n",
    "    for user_id, row in enumerate(ground_truth):\n",
    "        \n",
    "        uid_array = np.empty(no_items, dtype=np.int32)\n",
    "        uid_array.fill(user_id)\n",
    "        \n",
    "        predictions = model.predict(uid_array, pid_array, num_threads=num_threads)\n",
    "        \n",
    "        truth = np.asarray(row.todense()).ravel()\n",
    "        \n",
    "        mean_ap.append(sklearn.metrics.average_precision_score(truth, predictions))\n",
    "        auc.append(sklearn.metrics.roc_auc_score(truth, predictions))\n",
    "        \n",
    "    return pd.DataFrame(data={'mean_ap': mean_ap, 'auc': auc})"
   ]
  },
  {
   "cell_type": "code",
   "execution_count": null,
   "metadata": {
    "collapsed": false
   },
   "outputs": [],
   "source": [
    "# Load in the cf data\n",
    "cfdata_all = pd.read_csv(gzip.open('/home/bmcfee/data/1mil/cf/train_triplets.txt.gz', 'r'), sep='\\t', header=None)\n",
    "\n",
    "cfdata_all.columns = ['user_id', 'song_id', 'count']"
   ]
  },
  {
   "cell_type": "code",
   "execution_count": null,
   "metadata": {
    "collapsed": true
   },
   "outputs": [],
   "source": [
    "bad_songs = pd.read_csv('/home/bmcfee/data/1mil/AdditionalFiles/sid_mismatches.csv', header=None)[0]"
   ]
  },
  {
   "cell_type": "code",
   "execution_count": null,
   "metadata": {
    "collapsed": false
   },
   "outputs": [],
   "source": [
    "# Load the song<->track mapping\n",
    "unique_tracks = pd.read_csv('/home/bmcfee/data/1mil/AdditionalFiles/unique_tracks.txt', index_col=0, header=None, sep='<SEP>')\n",
    "\n",
    "unique_tracks.columns = ['song_id', 'artist', 'title']\n",
    "unique_tracks.index.name = 'track_id'"
   ]
  },
  {
   "cell_type": "code",
   "execution_count": null,
   "metadata": {
    "collapsed": false
   },
   "outputs": [],
   "source": [
    "# Load the artist mapping\n",
    "unique_artists = pd.read_csv('/home/bmcfee/data/1mil/AdditionalFiles/unique_artists.txt', index_col=0, header=None, sep='<SEP>')\n",
    "\n",
    "unique_artists.columns = ['mbid', 'track_id', 'artist']\n",
    "unique_artists.index.name = 'artist_id'"
   ]
  },
  {
   "cell_type": "code",
   "execution_count": null,
   "metadata": {
    "collapsed": true
   },
   "outputs": [],
   "source": [
    "# Load the test split\n",
    "test_artists = pd.read_csv('/home/bmcfee/data/1mil/AdditionalFiles/artists_test.txt', index_col=0, header=None)\n",
    "test_artists.index.name = 'artist_id'"
   ]
  },
  {
   "cell_type": "code",
   "execution_count": null,
   "metadata": {
    "collapsed": false
   },
   "outputs": [],
   "source": [
    "test_tracks = test_artists.join(unique_artists)\n",
    "test_songs = test_tracks.join(unique_tracks, on='track_id', rsuffix=' ', how='inner')"
   ]
  },
  {
   "cell_type": "code",
   "execution_count": null,
   "metadata": {
    "collapsed": false
   },
   "outputs": [],
   "source": [
    "bad_songs = bad_songs.append(test_songs['song_id'])"
   ]
  },
  {
   "cell_type": "code",
   "execution_count": null,
   "metadata": {
    "collapsed": true
   },
   "outputs": [],
   "source": [
    "# Now the songs are only in the msd training split, and not including the mismatches"
   ]
  },
  {
   "cell_type": "code",
   "execution_count": null,
   "metadata": {
    "collapsed": false
   },
   "outputs": [],
   "source": [
    "cfdata_all = cfdata_all[~cfdata_all['song_id'].isin(bad_songs)]"
   ]
  },
  {
   "cell_type": "code",
   "execution_count": null,
   "metadata": {
    "collapsed": false
   },
   "outputs": [],
   "source": [
    "song_counts = cfdata_all.groupby('song_id')['count'].sum()\n",
    "\n",
    "song_counts.sort_values(inplace=True)"
   ]
  },
  {
   "cell_type": "code",
   "execution_count": null,
   "metadata": {
    "collapsed": false
   },
   "outputs": [],
   "source": [
    "songs = song_counts.tail(10000)"
   ]
  },
  {
   "cell_type": "code",
   "execution_count": null,
   "metadata": {
    "collapsed": false
   },
   "outputs": [],
   "source": [
    "good_records = cfdata_all[cfdata_all['song_id'].isin(songs.index)]"
   ]
  },
  {
   "cell_type": "code",
   "execution_count": null,
   "metadata": {
    "collapsed": false
   },
   "outputs": [],
   "source": [
    "users = good_records.groupby('user_id')['song_id'].count()\n",
    "\n",
    "users.sort_values(inplace=True)"
   ]
  },
  {
   "cell_type": "code",
   "execution_count": null,
   "metadata": {
    "collapsed": false
   },
   "outputs": [],
   "source": [
    "good_users = users[users >= 100]"
   ]
  },
  {
   "cell_type": "code",
   "execution_count": null,
   "metadata": {
    "collapsed": false
   },
   "outputs": [],
   "source": [
    "good_data = good_records[good_records['user_id'].isin(good_users.index)]"
   ]
  },
  {
   "cell_type": "code",
   "execution_count": null,
   "metadata": {
    "collapsed": false
   },
   "outputs": [],
   "source": [
    "len(good_data['user_id'].unique())"
   ]
  },
  {
   "cell_type": "code",
   "execution_count": null,
   "metadata": {
    "collapsed": false
   },
   "outputs": [],
   "source": [
    "len(good_data['song_id'].unique())"
   ]
  },
  {
   "cell_type": "code",
   "execution_count": null,
   "metadata": {
    "collapsed": false
   },
   "outputs": [],
   "source": [
    "good_data = good_data.reset_index(drop=True)"
   ]
  },
  {
   "cell_type": "code",
   "execution_count": null,
   "metadata": {
    "collapsed": true
   },
   "outputs": [],
   "source": [
    "# Convert to a sparse matrix"
   ]
  },
  {
   "cell_type": "code",
   "execution_count": null,
   "metadata": {
    "collapsed": false
   },
   "outputs": [],
   "source": [
    "ux = LabelEncoder()\n",
    "ux.fit(good_data['user_id'].unique())\n",
    "\n",
    "ix = LabelEncoder()\n",
    "ix.fit(good_data['song_id'].unique())"
   ]
  },
  {
   "cell_type": "code",
   "execution_count": null,
   "metadata": {
    "collapsed": false
   },
   "outputs": [],
   "source": [
    "good_data['user_index'] = ux.transform(good_data['user_id'])\n",
    "good_data['item_index'] = ix.transform(good_data['song_id'])"
   ]
  },
  {
   "cell_type": "code",
   "execution_count": null,
   "metadata": {
    "collapsed": true
   },
   "outputs": [],
   "source": [
    "# Randomly partition ratings\n",
    "for train_idx, test_idx in StratifiedShuffleSplit(good_data['user_index'], n_iter=1, test_size=0.2, random_state=0):\n",
    "    pass"
   ]
  },
  {
   "cell_type": "code",
   "execution_count": null,
   "metadata": {
    "collapsed": false
   },
   "outputs": [],
   "source": [
    "train = scipy.sparse.coo_matrix( (np.ones(len(good_data.loc[train_idx]['count']), dtype=np.int32), \n",
    "                                  (good_data.loc[train_idx]['user_index'], good_data.loc[train_idx]['item_index'])))"
   ]
  },
  {
   "cell_type": "code",
   "execution_count": null,
   "metadata": {
    "collapsed": true
   },
   "outputs": [],
   "source": [
    "test = scipy.sparse.coo_matrix( (np.ones(len(good_data.loc[test_idx]['count']), dtype=np.int32), \n",
    "                                  (good_data.loc[test_idx]['user_index'], good_data.loc[test_idx]['item_index'])))"
   ]
  },
  {
   "cell_type": "code",
   "execution_count": null,
   "metadata": {
    "collapsed": false
   },
   "outputs": [],
   "source": [
    "scores = []\n",
    "models = []\n",
    "for n_components in [8, 16, 32, 64, 128]:\n",
    "    print(\"Fitting d={:d}\".format(n_components))\n",
    "    model = lightfm.LightFM(no_components=n_components, loss='warp', item_alpha=1e-6, user_alpha=1e-6)\n",
    "    model.fit(train, epochs=20, num_threads=3, verbose=False)\n",
    "    models.append(model)"
   ]
  },
  {
   "cell_type": "code",
   "execution_count": null,
   "metadata": {
    "collapsed": false
   },
   "outputs": [],
   "source": [
    "for model in models:\n",
    "    print(\"Evaluating d={:d}\".format(model.item_embeddings.shape[1]))\n",
    "    score_test = validate_model(model, train.tocsr(), test.tocsr())\n",
    "    print(score_test.mean())\n",
    "    scores.append(score_test)\n",
    "    print('---')"
   ]
  },
  {
   "cell_type": "markdown",
   "metadata": {},
   "source": [
    "---"
   ]
  },
  {
   "cell_type": "code",
   "execution_count": null,
   "metadata": {
    "collapsed": true
   },
   "outputs": [],
   "source": [
    "model = models[-2]"
   ]
  },
  {
   "cell_type": "code",
   "execution_count": null,
   "metadata": {
    "collapsed": false
   },
   "outputs": [],
   "source": [
    "plt.figure()\n",
    "plt.imshow(model.item_embeddings.T, aspect='auto', interpolation='nearest', cmap='viridis')\n",
    "plt.tight_layout();"
   ]
  },
  {
   "cell_type": "code",
   "execution_count": null,
   "metadata": {
    "collapsed": false
   },
   "outputs": [],
   "source": [
    "plt.figure()\n",
    "sns.rugplot(model.item_biases)\n",
    "plt.tight_layout()"
   ]
  },
  {
   "cell_type": "code",
   "execution_count": null,
   "metadata": {
    "collapsed": true
   },
   "outputs": [],
   "source": [
    "from sklearn.manifold import TSNE"
   ]
  },
  {
   "cell_type": "code",
   "execution_count": null,
   "metadata": {
    "collapsed": true
   },
   "outputs": [],
   "source": [
    "T = TSNE(random_state=0, verbose=1)"
   ]
  },
  {
   "cell_type": "code",
   "execution_count": null,
   "metadata": {
    "collapsed": false
   },
   "outputs": [],
   "source": [
    "Y = T.fit_transform(model.item_embeddings)"
   ]
  },
  {
   "cell_type": "code",
   "execution_count": null,
   "metadata": {
    "collapsed": false
   },
   "outputs": [],
   "source": [
    "plt.figure()\n",
    "plt.scatter(Y[:, 0], Y[:, 1], alpha=0.3)\n",
    "plt.tight_layout();"
   ]
  }
 ],
 "metadata": {
  "kernelspec": {
   "display_name": "Python 3",
   "language": "python",
   "name": "python3"
  },
  "language_info": {
   "codemirror_mode": {
    "name": "ipython",
    "version": 3
   },
   "file_extension": ".py",
   "mimetype": "text/x-python",
   "name": "python",
   "nbconvert_exporter": "python",
   "pygments_lexer": "ipython3",
   "version": "3.5.0"
  }
 },
 "nbformat": 4,
 "nbformat_minor": 0
}
